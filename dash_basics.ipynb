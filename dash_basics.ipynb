{
 "cells": [
  {
   "cell_type": "code",
   "execution_count": 29,
   "metadata": {},
   "outputs": [],
   "source": [
    "import plotly \n",
    "import dash\n",
    "import plotly.offline as pyo\n",
    "import plotly.graph_objs as go\n",
    "import numpy as np\n",
    "import dash_html_components as html\n",
    "import dash_core_components as dcc\n",
    "from dash.dependencies import State, Input, Output\n",
    "import pandas as pd"
   ]
  },
  {
   "cell_type": "markdown",
   "metadata": {},
   "source": [
    "# Random data Generating function"
   ]
  },
  {
   "cell_type": "code",
   "execution_count": 45,
   "metadata": {},
   "outputs": [],
   "source": [
    "global cat_g ,sample_type\n",
    "cat_g = [\"good\",\"bad\",\"worst\"] \n",
    "sampletype=[\"beta\",]\n",
    "\n",
    "def datagen():\n",
    "    my_sample_data = np.random.random_sample([100,3])\n",
    "    sample_Cat = [cat_g[np.random.randint(0,3)] for i in range(100)]\n",
    "    Base_Data = pd.DataFrame(my_sample_data,columns=[\"val_1\",\"val_2\",\"val_3\"])\n",
    "    Base_Data[\"sample_Cat\"] = sample_Cat\n",
    "      \n",
    "    \n",
    "    return(Base_Data)"
   ]
  },
  {
   "cell_type": "markdown",
   "metadata": {},
   "source": [
    "#  Plotly function to generate plots\n",
    "\n",
    "###  Functions or classes to generate plots or html files\n"
   ]
  },
  {
   "cell_type": "code",
   "execution_count": 32,
   "metadata": {},
   "outputs": [],
   "source": [
    "def fig_generator(sample_data):\n",
    "    sample_data = sample_data.reset_index(drop=True)\n",
    "    sample_data.head()\n",
    "    plot_data =[]\n",
    "\n",
    "    for i in range(1,4):\n",
    "        plot_data.append(go.Scatter(x=sample_data.index, y=sample_data['val_'+ str(i)], name = 'val_'+ str(i) ))\n",
    "    plot_layout = go.Layout(title = \" This plot is generated using plotly  \")\n",
    "\n",
    "    fig = go.Figure( data = plot_data ,layout = plot_layout)\n",
    "\n",
    "    return(fig.data,fig.layout)"
   ]
  },
  {
   "cell_type": "code",
   "execution_count": 38,
   "metadata": {},
   "outputs": [],
   "source": [
    "plot_data,plotlayout= fig_generator(datagen())\n",
    "fig = go.Figure(data=plot_data,layout = plotlayout)\n",
    "\n",
    "fig.show()"
   ]
  },
  {
   "cell_type": "markdown",
   "metadata": {},
   "source": [
    "## Defining Dash layout"
   ]
  },
  {
   "cell_type": "code",
   "execution_count": 13,
   "metadata": {},
   "outputs": [],
   "source": [
    "app = dash.Dash()\n",
    "app.layout =html.Div()"
   ]
  },
  {
   "cell_type": "code",
   "execution_count": 14,
   "metadata": {
    "scrolled": true
   },
   "outputs": [
    {
     "name": "stdout",
     "output_type": "stream",
     "text": [
      " * Serving Flask app \"__main__\" (lazy loading)\n",
      " * Environment: production\n",
      "   WARNING: This is a development server. Do not use it in a production deployment.\n",
      "   Use a production WSGI server instead.\n",
      " * Debug mode: off\n"
     ]
    },
    {
     "name": "stderr",
     "output_type": "stream",
     "text": [
      " * Running on http://127.0.0.1:8050/ (Press CTRL+C to quit)\n",
      "127.0.0.1 - - [17/Dec/2019 14:41:06] \"\u001b[37mGET / HTTP/1.1\u001b[0m\" 200 -\n",
      "127.0.0.1 - - [17/Dec/2019 14:41:06] \"\u001b[37mGET /_dash-component-suites/dash_renderer/react@16.v1_2_2m1576572911.8.6.min.js HTTP/1.1\u001b[0m\" 200 -\n",
      "127.0.0.1 - - [17/Dec/2019 14:41:06] \"\u001b[37mGET /_dash-component-suites/dash_renderer/prop-types@15.v1_2_2m1576572911.7.2.min.js HTTP/1.1\u001b[0m\" 200 -\n",
      "127.0.0.1 - - [17/Dec/2019 14:41:06] \"\u001b[37mGET /_dash-component-suites/dash_renderer/polyfill@7.v1_2_2m1576572911.7.0.min.js HTTP/1.1\u001b[0m\" 200 -\n",
      "127.0.0.1 - - [17/Dec/2019 14:41:06] \"\u001b[37mGET /_dash-component-suites/dash_renderer/react-dom@16.v1_2_2m1576572911.8.6.min.js HTTP/1.1\u001b[0m\" 200 -\n",
      "127.0.0.1 - - [17/Dec/2019 14:41:06] \"\u001b[37mGET /_dash-component-suites/dash_core_components/highlight.v1_6_0m1576572914.pack.js HTTP/1.1\u001b[0m\" 200 -\n",
      "127.0.0.1 - - [17/Dec/2019 14:41:06] \"\u001b[37mGET /_dash-component-suites/dash_html_components/dash_html_components.v1_0_2m1576572917.min.js HTTP/1.1\u001b[0m\" 200 -\n",
      "127.0.0.1 - - [17/Dec/2019 14:41:06] \"\u001b[37mGET /_dash-component-suites/dash_core_components/dash_core_components.v1_6_0m1576572914.min.js HTTP/1.1\u001b[0m\" 200 -\n",
      "127.0.0.1 - - [17/Dec/2019 14:41:06] \"\u001b[37mGET /_dash-component-suites/dash_renderer/dash_renderer.v1_2_2m1576572911.min.js HTTP/1.1\u001b[0m\" 200 -\n",
      "127.0.0.1 - - [17/Dec/2019 14:41:06] \"\u001b[37mGET /_dash-layout HTTP/1.1\u001b[0m\" 200 -\n",
      "127.0.0.1 - - [17/Dec/2019 14:41:06] \"\u001b[37mGET /_dash-dependencies HTTP/1.1\u001b[0m\" 200 -\n",
      "127.0.0.1 - - [17/Dec/2019 14:41:06] \"\u001b[37mGET /_favicon.ico?v=1.7.0 HTTP/1.1\u001b[0m\" 200 -\n"
     ]
    }
   ],
   "source": [
    "if __name__=='__main__':\n",
    "    app.run_server()"
   ]
  },
  {
   "cell_type": "code",
   "execution_count": null,
   "metadata": {},
   "outputs": [],
   "source": []
  },
  {
   "cell_type": "markdown",
   "metadata": {},
   "source": [
    "# Defining the HTML component"
   ]
  },
  {
   "cell_type": "code",
   "execution_count": null,
   "metadata": {},
   "outputs": [],
   "source": []
  },
  {
   "cell_type": "code",
   "execution_count": 15,
   "metadata": {},
   "outputs": [],
   "source": [
    "app.layout =html.Div([html.Div(\"Hi All\"),html.Div(\"How are you\")])"
   ]
  },
  {
   "cell_type": "code",
   "execution_count": 16,
   "metadata": {
    "scrolled": true
   },
   "outputs": [
    {
     "name": "stdout",
     "output_type": "stream",
     "text": [
      " * Serving Flask app \"__main__\" (lazy loading)\n",
      " * Environment: production\n",
      "   WARNING: This is a development server. Do not use it in a production deployment.\n",
      "   Use a production WSGI server instead.\n",
      " * Debug mode: off\n"
     ]
    },
    {
     "name": "stderr",
     "output_type": "stream",
     "text": [
      " * Running on http://127.0.0.1:8050/ (Press CTRL+C to quit)\n",
      "127.0.0.1 - - [17/Dec/2019 14:47:43] \"\u001b[37mGET / HTTP/1.1\u001b[0m\" 200 -\n",
      "127.0.0.1 - - [17/Dec/2019 14:47:44] \"\u001b[37mGET /_dash-layout HTTP/1.1\u001b[0m\" 200 -\n",
      "127.0.0.1 - - [17/Dec/2019 14:47:44] \"\u001b[37mGET /_dash-dependencies HTTP/1.1\u001b[0m\" 200 -\n"
     ]
    }
   ],
   "source": [
    "if __name__=='__main__':\n",
    "    app.run_server()"
   ]
  },
  {
   "cell_type": "markdown",
   "metadata": {},
   "source": [
    "# CSS Styles "
   ]
  },
  {
   "cell_type": "markdown",
   "metadata": {},
   "source": [
    "https://www.w3schools.com/css/default.asp"
   ]
  },
  {
   "cell_type": "code",
   "execution_count": 20,
   "metadata": {},
   "outputs": [],
   "source": [
    "app.layout =html.Div([html.Div(\"Hi All\"),html.Div(\"How are you\")],style={\"background-color\": \"lightblue\"})"
   ]
  },
  {
   "cell_type": "code",
   "execution_count": 22,
   "metadata": {},
   "outputs": [
    {
     "name": "stdout",
     "output_type": "stream",
     "text": [
      " * Serving Flask app \"__main__\" (lazy loading)\n",
      " * Environment: production\n",
      "   WARNING: This is a development server. Do not use it in a production deployment.\n",
      "   Use a production WSGI server instead.\n",
      " * Debug mode: off\n"
     ]
    },
    {
     "name": "stderr",
     "output_type": "stream",
     "text": [
      " * Running on http://127.0.0.1:8050/ (Press CTRL+C to quit)\n"
     ]
    }
   ],
   "source": [
    "if __name__=='__main__':\n",
    "    app.run_server()"
   ]
  },
  {
   "cell_type": "markdown",
   "metadata": {},
   "source": [
    "# Dash Core components\n"
   ]
  },
  {
   "cell_type": "markdown",
   "metadata": {},
   "source": [
    "https://dash.plot.ly/dash-core-components"
   ]
  },
  {
   "cell_type": "code",
   "execution_count": 23,
   "metadata": {},
   "outputs": [],
   "source": [
    "app.layout =html.Div([dcc.Dropdown(\n",
    "    options=[\n",
    "        {'label': 'New York City', 'value': 'NYC'},\n",
    "        {'label': 'Montréal', 'value': 'MTL'},\n",
    "        {'label': 'San Francisco', 'value': 'SF'}\n",
    "    ],\n",
    "    value='MTL'\n",
    ") ],style={\"background-color\": \"lightblue\"})"
   ]
  },
  {
   "cell_type": "code",
   "execution_count": 24,
   "metadata": {},
   "outputs": [
    {
     "name": "stdout",
     "output_type": "stream",
     "text": [
      " * Serving Flask app \"__main__\" (lazy loading)\n",
      " * Environment: production\n",
      "   WARNING: This is a development server. Do not use it in a production deployment.\n",
      "   Use a production WSGI server instead.\n",
      " * Debug mode: off\n"
     ]
    },
    {
     "name": "stderr",
     "output_type": "stream",
     "text": [
      " * Running on http://127.0.0.1:8050/ (Press CTRL+C to quit)\n",
      "127.0.0.1 - - [17/Dec/2019 14:54:05] \"\u001b[37mGET / HTTP/1.1\u001b[0m\" 200 -\n",
      "127.0.0.1 - - [17/Dec/2019 14:54:05] \"\u001b[37mGET /_dash-layout HTTP/1.1\u001b[0m\" 200 -\n",
      "127.0.0.1 - - [17/Dec/2019 14:54:05] \"\u001b[37mGET /_dash-dependencies HTTP/1.1\u001b[0m\" 200 -\n",
      "127.0.0.1 - - [17/Dec/2019 14:54:05] \"\u001b[37mGET /_dash-component-suites/dash_core_components/async~dropdown.v1_6_0m1574883644.js HTTP/1.1\u001b[0m\" 200 -\n",
      "127.0.0.1 - - [17/Dec/2019 14:54:05] \"\u001b[37mGET /_dash-component-suites/dash_core_components/async~datepicker.v1_6_0m1574883644.js HTTP/1.1\u001b[0m\" 200 -\n"
     ]
    }
   ],
   "source": [
    "if __name__=='__main__':\n",
    "    app.run_server()"
   ]
  },
  {
   "cell_type": "code",
   "execution_count": 42,
   "metadata": {},
   "outputs": [
    {
     "name": "stdout",
     "output_type": "stream",
     "text": [
      " * Serving Flask app \"__main__\" (lazy loading)\n",
      " * Environment: production\n",
      "   WARNING: This is a development server. Do not use it in a production deployment.\n",
      "   Use a production WSGI server instead.\n",
      " * Debug mode: off\n"
     ]
    },
    {
     "name": "stderr",
     "output_type": "stream",
     "text": [
      " * Running on http://127.0.0.1:8050/ (Press CTRL+C to quit)\n",
      "127.0.0.1 - - [17/Dec/2019 15:07:05] \"\u001b[37mGET / HTTP/1.1\u001b[0m\" 200 -\n",
      "127.0.0.1 - - [17/Dec/2019 15:07:05] \"\u001b[37mGET /_dash-layout HTTP/1.1\u001b[0m\" 200 -\n",
      "127.0.0.1 - - [17/Dec/2019 15:07:05] \"\u001b[37mGET /_dash-dependencies HTTP/1.1\u001b[0m\" 200 -\n",
      "127.0.0.1 - - [17/Dec/2019 15:07:06] \"\u001b[37mGET /_dash-component-suites/dash_core_components/async~plotlyjs.v1_6_0m1574883644.js HTTP/1.1\u001b[0m\" 200 -\n",
      "127.0.0.1 - - [17/Dec/2019 15:07:06] \"\u001b[37mPOST /_dash-update-component HTTP/1.1\u001b[0m\" 200 -\n",
      "127.0.0.1 - - [17/Dec/2019 15:07:06] \"\u001b[37mGET /_dash-component-suites/dash_core_components/async~graph.v1_6_0m1574883644.js HTTP/1.1\u001b[0m\" 200 -\n",
      "127.0.0.1 - - [17/Dec/2019 15:07:25] \"\u001b[37mPOST /_dash-update-component HTTP/1.1\u001b[0m\" 200 -\n",
      "127.0.0.1 - - [17/Dec/2019 15:07:29] \"\u001b[37mPOST /_dash-update-component HTTP/1.1\u001b[0m\" 200 -\n",
      "127.0.0.1 - - [17/Dec/2019 15:07:57] \"\u001b[37mPOST /_dash-update-component HTTP/1.1\u001b[0m\" 200 -\n"
     ]
    }
   ],
   "source": [
    "## Creating values and lables for dropdown\n",
    "cat_g = [\"good\",\"bad\",\"worst\"] \n",
    "options_list = []\n",
    "for i in cat_g:\n",
    "    options_list.append({'label': i, 'value': i})\n",
    "    \n",
    "\n",
    "\n",
    "\n",
    "\n",
    "app.layout = html.Div(children=[html.Div(\"Welcome to the dashboard\",style= {   \"color\": \"white\",\n",
    "                                                      \"text-align\": \"center\",\"background-color\": \"blue\",\n",
    "                                                      \"border-style\": \"dotted\",\"display\":\"inline-block\",\"width\":\"80%\"\n",
    "                                                      \n",
    "                                                    }),\n",
    "                       html.Div(dcc.Dropdown(id = \"drop_down_1\" ,options= options_list , value= 'good'\n",
    "                                                       ),style= {\n",
    "                                                      \"color\": \"green\",\n",
    "                                                      \"text-align\": \"center\",\"background-color\": \"darkorange\",\n",
    "                                                      \"border-style\": \"dotted\",\"display\":\"inline-block\",\"width\":\"20%\"\n",
    "                                                      \n",
    "                                                    }),\n",
    "                       html.Div(children=[html.P(\n",
    "                            id=\"map-title\",\n",
    "                            children = \"Forecast and validation for Facility \",\n",
    "                        ), html.Div(dcc.Graph(id =\"plot_area\"))\n",
    "                                                       ],style= {\n",
    "                                                      \"color\": \"black\",\n",
    "                                                      \"text-align\": \"center\",\"background-color\": \"yellow\",\n",
    "                                                      \"border-style\": \"dotted\",\"display\":\"inline-block\",\"width\":\"75%\",\n",
    "                                                                                                            \n",
    "                                                    })],style={\"width\":\"100%\",'paffing':10})\n",
    "\n",
    "## Creating callback buttons\n",
    "\n",
    "@app.callback(Output(\"plot_area\", 'figure'),\n",
    "              \n",
    "              [Input(\"drop_down_1\", \"value\")])\n",
    "\n",
    "def updateplot(input_cat):\n",
    "    \n",
    "    df= datagen()\n",
    "    sample_data = df[df[\"sample_Cat\"] == input_cat ]\n",
    "    \n",
    "    trace,layout = fig_generator(sample_data)\n",
    "    \n",
    "    return {\n",
    "        'data': trace,\n",
    "        'layout':layout\n",
    "    }\n",
    "    \n",
    "    \n",
    "    \n",
    "if __name__=='__main__':\n",
    "    app.run_server()\n"
   ]
  },
  {
   "cell_type": "code",
   "execution_count": null,
   "metadata": {},
   "outputs": [],
   "source": []
  },
  {
   "cell_type": "code",
   "execution_count": null,
   "metadata": {},
   "outputs": [],
   "source": []
  }
 ],
 "metadata": {
  "kernelspec": {
   "display_name": "Python 3",
   "language": "python",
   "name": "python3"
  },
  "language_info": {
   "codemirror_mode": {
    "name": "ipython",
    "version": 3
   },
   "file_extension": ".py",
   "mimetype": "text/x-python",
   "name": "python",
   "nbconvert_exporter": "python",
   "pygments_lexer": "ipython3",
   "version": "3.6.9"
  }
 },
 "nbformat": 4,
 "nbformat_minor": 2
}
